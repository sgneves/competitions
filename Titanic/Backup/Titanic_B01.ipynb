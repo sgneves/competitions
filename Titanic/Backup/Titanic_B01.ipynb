{
 "cells": [
  {
   "cell_type": "markdown",
   "metadata": {},
   "source": [
    "# Titanic: Machine learning from disaster\n",
    "\n",
    "The [Titanic: Machine Learning from Disaster](https://www.kaggle.com/c/titanic) is a Kaggle competition in which the objective of this competition is to use machine learning to create a model that predicts which passengers survived the Titanic shipwreck. This type of machine learning is called [classification](https://en.wikipedia.org/wiki/Statistical_classification). More specifically, since there are only two different states we are classifying (survived or not survived), it is called [binary classification](https://en.wikipedia.org/wiki/Binary_classification).\n",
    "\n",
    "This notebook covers:\n",
    "\n",
    "* How to import and check the data.\n",
    "* Exploratory data analysis.\n",
    "* Feature engineering - Create new features from the existing data.\n",
    "* Model selection: Try a variety of models to improve performance.\n",
    "* Hyperparameter optimization: Optimize the settings within each particular machine learning model.\n",
    "\n",
    "# Import and check data"
   ]
  },
  {
   "cell_type": "code",
   "execution_count": 1,
   "metadata": {},
   "outputs": [],
   "source": [
    "# Import modules\n",
    "import matplotlib as mpl\n",
    "import matplotlib.pyplot as plt\n",
    "import pandas as pd\n",
    "from sklearn.ensemble import RandomForestClassifier\n",
    "from sklearn.linear_model import LogisticRegression\n",
    "from sklearn.model_selection import cross_val_score\n",
    "from sklearn.model_selection import GridSearchCV\n",
    "from sklearn.tree import DecisionTreeClassifier\n",
    "from time import time\n",
    "\n",
    "mpl.rcParams.update({'font.size': 13})"
   ]
  },
  {
   "cell_type": "code",
   "execution_count": 2,
   "metadata": {},
   "outputs": [],
   "source": [
    "# Import training and test sets\n",
    "folder = './'\n",
    "# folder = '/kaggle/input/titanic/'\n",
    "\n",
    "train = pd.read_csv(folder + 'train.csv')\n",
    "train_shape = train.shape\n",
    "\n",
    "test = pd.read_csv(folder + 'test.csv')\n",
    "test_shape = test.shape\n",
    "\n",
    "# Target column\n",
    "target = 'survived'\n",
    "\n",
    "# Convert columns names to lowercase\n",
    "train.columns = train.columns.str.lower()\n",
    "test.columns = test.columns.str.lower()"
   ]
  },
  {
   "cell_type": "code",
   "execution_count": 3,
   "metadata": {
    "scrolled": true
   },
   "outputs": [
    {
     "data": {
      "text/html": [
       "<div>\n",
       "<style scoped>\n",
       "    .dataframe tbody tr th:only-of-type {\n",
       "        vertical-align: middle;\n",
       "    }\n",
       "\n",
       "    .dataframe tbody tr th {\n",
       "        vertical-align: top;\n",
       "    }\n",
       "\n",
       "    .dataframe thead th {\n",
       "        text-align: right;\n",
       "    }\n",
       "</style>\n",
       "<table border=\"1\" class=\"dataframe\">\n",
       "  <thead>\n",
       "    <tr style=\"text-align: right;\">\n",
       "      <th></th>\n",
       "      <th>passengerid</th>\n",
       "      <th>survived</th>\n",
       "      <th>pclass</th>\n",
       "      <th>name</th>\n",
       "      <th>sex</th>\n",
       "      <th>age</th>\n",
       "      <th>sibsp</th>\n",
       "      <th>parch</th>\n",
       "      <th>ticket</th>\n",
       "      <th>fare</th>\n",
       "      <th>cabin</th>\n",
       "      <th>embarked</th>\n",
       "    </tr>\n",
       "  </thead>\n",
       "  <tbody>\n",
       "    <tr>\n",
       "      <th>0</th>\n",
       "      <td>1</td>\n",
       "      <td>0</td>\n",
       "      <td>3</td>\n",
       "      <td>Braund, Mr. Owen Harris</td>\n",
       "      <td>male</td>\n",
       "      <td>22.0</td>\n",
       "      <td>1</td>\n",
       "      <td>0</td>\n",
       "      <td>A/5 21171</td>\n",
       "      <td>7.2500</td>\n",
       "      <td>NaN</td>\n",
       "      <td>S</td>\n",
       "    </tr>\n",
       "    <tr>\n",
       "      <th>1</th>\n",
       "      <td>2</td>\n",
       "      <td>1</td>\n",
       "      <td>1</td>\n",
       "      <td>Cumings, Mrs. John Bradley (Florence Briggs Th...</td>\n",
       "      <td>female</td>\n",
       "      <td>38.0</td>\n",
       "      <td>1</td>\n",
       "      <td>0</td>\n",
       "      <td>PC 17599</td>\n",
       "      <td>71.2833</td>\n",
       "      <td>C85</td>\n",
       "      <td>C</td>\n",
       "    </tr>\n",
       "    <tr>\n",
       "      <th>2</th>\n",
       "      <td>3</td>\n",
       "      <td>1</td>\n",
       "      <td>3</td>\n",
       "      <td>Heikkinen, Miss. Laina</td>\n",
       "      <td>female</td>\n",
       "      <td>26.0</td>\n",
       "      <td>0</td>\n",
       "      <td>0</td>\n",
       "      <td>STON/O2. 3101282</td>\n",
       "      <td>7.9250</td>\n",
       "      <td>NaN</td>\n",
       "      <td>S</td>\n",
       "    </tr>\n",
       "    <tr>\n",
       "      <th>3</th>\n",
       "      <td>4</td>\n",
       "      <td>1</td>\n",
       "      <td>1</td>\n",
       "      <td>Futrelle, Mrs. Jacques Heath (Lily May Peel)</td>\n",
       "      <td>female</td>\n",
       "      <td>35.0</td>\n",
       "      <td>1</td>\n",
       "      <td>0</td>\n",
       "      <td>113803</td>\n",
       "      <td>53.1000</td>\n",
       "      <td>C123</td>\n",
       "      <td>S</td>\n",
       "    </tr>\n",
       "    <tr>\n",
       "      <th>4</th>\n",
       "      <td>5</td>\n",
       "      <td>0</td>\n",
       "      <td>3</td>\n",
       "      <td>Allen, Mr. William Henry</td>\n",
       "      <td>male</td>\n",
       "      <td>35.0</td>\n",
       "      <td>0</td>\n",
       "      <td>0</td>\n",
       "      <td>373450</td>\n",
       "      <td>8.0500</td>\n",
       "      <td>NaN</td>\n",
       "      <td>S</td>\n",
       "    </tr>\n",
       "  </tbody>\n",
       "</table>\n",
       "</div>"
      ],
      "text/plain": [
       "   passengerid  survived  pclass  \\\n",
       "0            1         0       3   \n",
       "1            2         1       1   \n",
       "2            3         1       3   \n",
       "3            4         1       1   \n",
       "4            5         0       3   \n",
       "\n",
       "                                                name     sex   age  sibsp  \\\n",
       "0                            Braund, Mr. Owen Harris    male  22.0      1   \n",
       "1  Cumings, Mrs. John Bradley (Florence Briggs Th...  female  38.0      1   \n",
       "2                             Heikkinen, Miss. Laina  female  26.0      0   \n",
       "3       Futrelle, Mrs. Jacques Heath (Lily May Peel)  female  35.0      1   \n",
       "4                           Allen, Mr. William Henry    male  35.0      0   \n",
       "\n",
       "   parch            ticket     fare cabin embarked  \n",
       "0      0         A/5 21171   7.2500   NaN        S  \n",
       "1      0          PC 17599  71.2833   C85        C  \n",
       "2      0  STON/O2. 3101282   7.9250   NaN        S  \n",
       "3      0            113803  53.1000  C123        S  \n",
       "4      0            373450   8.0500   NaN        S  "
      ]
     },
     "execution_count": 3,
     "metadata": {},
     "output_type": "execute_result"
    }
   ],
   "source": [
    "train.head()"
   ]
  },
  {
   "cell_type": "markdown",
   "metadata": {},
   "source": [
    "The columns of this DataFrame are:\n",
    "\n",
    "* `passengerid` - Unique identifier of each passenger (used for submissions).\n",
    "* `survived` - Whether the passenger survived or not (0=No, 1=Yes).\n",
    "* `pclass` - The class of the ticket the passenger purchased (1=1st, 2=2nd, 3=3rd).\n",
    "* `name` - Name of the passenger.\n",
    "* `sex` - The passenger's sex.\n",
    "* `age` - The passenger's age in years.\n",
    "* `sibsp` - The number of siblings or spouses the passenger had aboard the Titanic.\n",
    "* `parch` - The number of parents or children the passenger had aboard the Titanic.\n",
    "* `ticket` - The passenger's ticket number.\n",
    "* `fare` - The fare the passenger paid.\n",
    "* `cabin` - The passenger's cabin number.\n",
    "* `embarked` - The port where the passenger embarked (C=Cherbourg, Q=Queenstown, S=Southampton).\n",
    "\n",
    "# Exploratory data analysis\n",
    "\n",
    "Lets now look at the data types of the columns and the number of missing values."
   ]
  },
  {
   "cell_type": "code",
   "execution_count": 4,
   "metadata": {},
   "outputs": [
    {
     "name": "stdout",
     "output_type": "stream",
     "text": [
      "<class 'pandas.core.frame.DataFrame'>\n",
      "RangeIndex: 891 entries, 0 to 890\n",
      "Data columns (total 12 columns):\n",
      " #   Column       Non-Null Count  Dtype  \n",
      "---  ------       --------------  -----  \n",
      " 0   passengerid  891 non-null    int64  \n",
      " 1   survived     891 non-null    int64  \n",
      " 2   pclass       891 non-null    int64  \n",
      " 3   name         891 non-null    object \n",
      " 4   sex          891 non-null    object \n",
      " 5   age          714 non-null    float64\n",
      " 6   sibsp        891 non-null    int64  \n",
      " 7   parch        891 non-null    int64  \n",
      " 8   ticket       891 non-null    object \n",
      " 9   fare         891 non-null    float64\n",
      " 10  cabin        204 non-null    object \n",
      " 11  embarked     889 non-null    object \n",
      "dtypes: float64(2), int64(5), object(5)\n",
      "memory usage: 83.7+ KB\n"
     ]
    }
   ],
   "source": [
    "train.info()"
   ]
  },
  {
   "cell_type": "code",
   "execution_count": 5,
   "metadata": {
    "scrolled": true
   },
   "outputs": [
    {
     "name": "stdout",
     "output_type": "stream",
     "text": [
      "<class 'pandas.core.frame.DataFrame'>\n",
      "RangeIndex: 418 entries, 0 to 417\n",
      "Data columns (total 11 columns):\n",
      " #   Column       Non-Null Count  Dtype  \n",
      "---  ------       --------------  -----  \n",
      " 0   passengerid  418 non-null    int64  \n",
      " 1   pclass       418 non-null    int64  \n",
      " 2   name         418 non-null    object \n",
      " 3   sex          418 non-null    object \n",
      " 4   age          332 non-null    float64\n",
      " 5   sibsp        418 non-null    int64  \n",
      " 6   parch        418 non-null    int64  \n",
      " 7   ticket       418 non-null    object \n",
      " 8   fare         417 non-null    float64\n",
      " 9   cabin        91 non-null     object \n",
      " 10  embarked     418 non-null    object \n",
      "dtypes: float64(2), int64(4), object(5)\n",
      "memory usage: 36.0+ KB\n"
     ]
    }
   ],
   "source": [
    "test.info()"
   ]
  },
  {
   "cell_type": "markdown",
   "metadata": {},
   "source": [
    "The data types of the columns seem to be correct. The columns `age` and `cabin` of both datasets have missing values, and the column `fare` of the test set has only one missing value. Since most learning algorithms do not handle missing values, we will need to sort those if we want to use some of these columns. Now let's look at the number of unique values of each column of the training set."
   ]
  },
  {
   "cell_type": "code",
   "execution_count": 6,
   "metadata": {},
   "outputs": [
    {
     "data": {
      "text/plain": [
       "passengerid    891\n",
       "survived         2\n",
       "pclass           3\n",
       "name           891\n",
       "sex              2\n",
       "age             89\n",
       "sibsp            7\n",
       "parch            7\n",
       "ticket         681\n",
       "fare           248\n",
       "cabin          148\n",
       "embarked         4\n",
       "dtype: int64"
      ]
     },
     "execution_count": 6,
     "metadata": {},
     "output_type": "execute_result"
    }
   ],
   "source": [
    "train.apply(lambda col: len(col.unique()))"
   ]
  },
  {
   "cell_type": "markdown",
   "metadata": {},
   "source": [
    "We will first focus on the columns `pclass`, `sex`, `sibsp`, `parch`, `fare` and `embarked`. Since, most of these columns do not have many unique values and missing values, they might not require much processing."
   ]
  },
  {
   "cell_type": "code",
   "execution_count": 7,
   "metadata": {},
   "outputs": [
    {
     "data": {
      "image/png": "[encoded data removed]",
      "text/plain": [
       "<Figure size 1080x1080 with 6 Axes>"
      ]
     },
     "metadata": {
      "needs_background": "light"
     },
     "output_type": "display_data"
    }
   ],
   "source": [
    "def set_spines(ax=None):\n",
    "    '''Sets the box outline around the specified axis.'''\n",
    "\n",
    "    if ax == None: ax = plt.gca()\n",
    "\n",
    "    ax.spines['top'].set_visible(False)\n",
    "    ax.spines['right'].set_visible(False)\n",
    "\n",
    "fig, axs = plt.subplots(3, 2, figsize=(15,15))\n",
    "train.pivot_table(index='pclass',values='survived')['survived'].plot.bar(ax=axs[0,0])\n",
    "train.pivot_table(index='sex',values='survived')['survived'].plot.bar(ax=axs[0,1])\n",
    "train.pivot_table(index='sibsp',values='survived')['survived'].plot.bar(ax=axs[1,0])\n",
    "train.pivot_table(index='parch',values='survived')['survived'].plot.bar(ax=axs[1,1])\n",
    "train.plot.scatter(x='fare', y='survived', ax=axs[2,0]);\n",
    "train.pivot_table(index='embarked',values='survived')['survived'].plot.bar(ax=axs[2,1])\n",
    "\n",
    "for ax in axs.flatten():\n",
    "    ax.tick_params(rotation=0)\n",
    "    ax.set_ylabel('Proportion of survivors')\n",
    "    set_spines(ax)\n",
    "    ax.set_ylim([0, 0.8])\n",
    "\n",
    "axs[2,0].set_ylabel('Survived?')\n",
    "axs[2,0].set_ylim([0, 1.2]);"
   ]
  },
  {
   "cell_type": "markdown",
   "metadata": {},
   "source": [
    "We can observe that:\n",
    "\n",
    "* Passengers with upper-class tickets had better chances of survival than those without.\n",
    "* Females survived in much higher proportions than males. This feature seems to have the highest correlation with the chances of survival.\n",
    "* Passengers that were alone or had a lot of siblings or spouses were less likely to survive. A similar conclusion applies to the number of parents or children.\n",
    "* The correlation between the fare and the chances of survival does not seem to be significant, and so we will drop this column.\n",
    "* The port where the passenger embarked seems to influence the chances of survival."
   ]
  },
  {
   "cell_type": "code",
   "execution_count": 8,
   "metadata": {},
   "outputs": [],
   "source": [
    "# Drop fare column\n",
    "train.drop('fare', axis=1, inplace=True)\n",
    "test.drop('fare', axis=1, inplace=True)"
   ]
  },
  {
   "cell_type": "markdown",
   "metadata": {},
   "source": [
    "The columns `pclass`, `sex` and `embarked` are categorical features. Although the column `pclass` is numeric, there is not a numeric relationship between the different values. For instance, class 3 is not the triple of class 1. Most machine learning algorithms cannot understand text labels, and so we have to convert our values into numbers. The pandas function [get_dummies](https://pandas.pydata.org/pandas-docs/stable/reference/api/pandas.get_dummies.html) turns each categorical feature into a series of zeros and ones, which makes them a lot easier to quantify and compare."
   ]
  },
  {
   "cell_type": "code",
   "execution_count": 9,
   "metadata": {},
   "outputs": [],
   "source": [
    "def check_features_list(features):\n",
    "    '''Checks that the features variable is a list.'''\n",
    "\n",
    "    if type(features) == str:\n",
    "        features = [features]\n",
    "    \n",
    "    return features\n",
    "\n",
    "def convert_categorical_features(df, cat_features):\n",
    "    '''Convert specified features to dummy variables.'''\n",
    "\n",
    "    if len(cat_features) == 0:\n",
    "        return df\n",
    "\n",
    "    # Check that cat_features is a list\n",
    "    cat_features = check_features_list(cat_features)\n",
    "\n",
    "    # Convert the specified features\n",
    "    for feature in cat_features:\n",
    "\n",
    "        dummies = pd.get_dummies(df[feature], prefix=feature)\n",
    "\n",
    "        df = pd.concat([df,dummies], axis=1)\n",
    "\n",
    "    # Drop original features\n",
    "    df.drop(cat_features, axis=1, inplace=True)\n",
    "\n",
    "    return df"
   ]
  },
  {
   "cell_type": "markdown",
   "metadata": {},
   "source": [
    "We will start by using a [logistic regression](https://en.wikipedia.org/wiki/Logistic_regression) classifier to predict if the passengers survived or not. This project uses the Python machine learning library [Scikit-learn](https://scikit-learn.org/), which is an open-source library that supports supervised and unsupervised learning. It also provides various tools for model fitting, data preprocessing, model selection and evaluation, and many other utilities. The steps to fit and evaluate our machine learning model are:\n",
    "\n",
    "* Instantiate the [LogisticRegression](https://scikit-learn.org/stable/modules/generated/sklearn.linear_model.LogisticRegression.html) model\n",
    "* Fit the model to the training data\n",
    "* Use the model to make predictions\n",
    "* Evaluate the accuracy of the predictions\n",
    "\n",
    "We can’t use the test set to evaluate the predictions because it does not have the column `survived`. We would need to submit to Kaggle every time we wanted to assess the accuracy of the predictions. We could fit and predict using the entire training dataset, but this would likely overestimate the accuracy since our model would perform worse on unseen data. Instead, we can use a technique called cross-validation to train and test our model on different splits of our data, and then average the accuracy scores. We will be using the [k-fold cross-validation method](https://en.wikipedia.org/wiki/Cross-validation_(statistics)#k-fold_cross-validation), in which the original sample is randomly partitioned into *k* equal sized subsamples. Of the *k* subsamples, a single subsample is retained as the validation data for testing the model, and the remaining *k* − 1 subsamples are used as training data. The cross-validation process is then repeated *k* times, with each of the *k* subsamples used exactly once as the validation data. The *k* results can then be averaged to produce a single estimation. We will use Scikit-learn function [model_selection.cross_val_score](https://scikit-learn.org/stable/modules/generated/sklearn.model_selection.cross_val_score.html). This function can use different cross-validation methods and scoring types, but it defaults to k-fold validation and accuracy scores for the input types we will use."
   ]
  },
  {
   "cell_type": "code",
   "execution_count": 10,
   "metadata": {},
   "outputs": [],
   "source": [
    "def copy_convert_dataset(df, cat_features=[], num_features=[], copy_target=True):\n",
    "    '''Creates a copy of the dataset with the specified features and converts categorical features to dummy variables.'''\n",
    "    \n",
    "    # Check that the features variables are lists\n",
    "    cat_features = check_features_list(cat_features)\n",
    "    num_features = check_features_list(num_features)\n",
    "\n",
    "    # Create a copy of the DataFrame with the specified features and target\n",
    "    cols = cat_features + num_features\n",
    "    if copy_target != False: cols = cols + [target]\n",
    "\n",
    "    df_c = df[cols].copy()\n",
    "\n",
    "    # Convert categorical features to dummy variables\n",
    "    df_c = convert_categorical_features(df_c, cat_features)\n",
    "\n",
    "    return df_c\n",
    "\n",
    "def evaluate_lr_model(df, cat_features=[], num_features=[]):\n",
    "    '''Evaluates the accuracy of the logistic regression classifier using 5-fold cross-validation.'''\n",
    "\n",
    "    # Create a copy of df with the specified features and convert categorical features to dummy variables\n",
    "    df_c = copy_convert_dataset(df, cat_features, num_features)\n",
    "\n",
    "    # Evaluate accuracy using 5-fold cross-validation\n",
    "    accuracy = cross_val_score(lr, df_c.loc[:,df_c.columns != target], df_c[target], cv=5).mean()\n",
    "\n",
    "    return accuracy"
   ]
  },
  {
   "cell_type": "markdown",
   "metadata": {},
   "source": [
    "We will first evaluate the influence of each feature separately, and after we will combine them all."
   ]
  },
  {
   "cell_type": "code",
   "execution_count": 11,
   "metadata": {},
   "outputs": [
    {
     "name": "stdout",
     "output_type": "stream",
     "text": [
      "pclass: 66.56%\n",
      "sex: 78.67%\n",
      "embarked: 63.64%\n",
      "sibsp: 61.62%\n",
      "parch: 60.72%\n"
     ]
    }
   ],
   "source": [
    "# Initialize the logistic regression classifier\n",
    "lr = LogisticRegression()\n",
    "\n",
    "# Categorical features\n",
    "cat_features = ['pclass','sex','embarked']\n",
    "\n",
    "for feature in cat_features:\n",
    "\n",
    "    accuracy = evaluate_lr_model(train, cat_features=feature)\n",
    "    print('{}: {:.2f}%'.format(feature, accuracy*100))\n",
    "    \n",
    "# Numerical features\n",
    "num_features = ['sibsp','parch']\n",
    "\n",
    "for feature in num_features:\n",
    "\n",
    "    accuracy = evaluate_lr_model(train, num_features=feature)\n",
    "    print('{}: {:.2f}%'.format(feature, accuracy*100))"
   ]
  },
  {
   "cell_type": "markdown",
   "metadata": {},
   "source": [
    "As expected, the model using the feature `sex`, which seemed to have the highest correlation with the chances of survival, has the highest accuracy (78.67%). Now we will combine all the five features."
   ]
  },
  {
   "cell_type": "code",
   "execution_count": 12,
   "metadata": {},
   "outputs": [
    {
     "name": "stdout",
     "output_type": "stream",
     "text": [
      "['pclass', 'sex', 'embarked', 'sibsp', 'parch']: 78.90%\n"
     ]
    }
   ],
   "source": [
    "accuracy = evaluate_lr_model(train, cat_features, num_features)\n",
    "print('{}: {:.2f}%'.format(cat_features + num_features, accuracy*100))"
   ]
  },
  {
   "cell_type": "markdown",
   "metadata": {},
   "source": [
    "The accuracy of the model using the features `pclass`, `sex`, `embarked`, `sibsp` and `parch` was 78.90%. Now we will predict which passengers of the test set survived."
   ]
  },
  {
   "cell_type": "code",
   "execution_count": 13,
   "metadata": {},
   "outputs": [],
   "source": [
    "def predict_test(model, train_c, test_c, filenamne):\n",
    "    '''Generates the predictions for the test set and writes them to file.'''\n",
    "\n",
    "    # Get the features\n",
    "    features = train_c.columns.to_list()\n",
    "    features.remove(target)\n",
    "\n",
    "    # Fit the model to the training data set\n",
    "    model.fit(train_c[features], train_c[target])\n",
    "\n",
    "    # Predict using the test set\n",
    "    predictions = model.predict(test_c[features])\n",
    "\n",
    "    # Write predictions to file\n",
    "    submission = pd.DataFrame({\"PassengerId\":test[\"passengerid\"],\"Survived\":predictions})\n",
    "    submission.to_csv(filenamne, index=False)\n",
    "\n",
    "# Create a copy of the training and test datasets with the selected features and convert categorical features to dummy\n",
    "# variables\n",
    "train_c = copy_convert_dataset(train, cat_features, num_features)\n",
    "test_c = copy_convert_dataset(test, cat_features, num_features, False)\n",
    "\n",
    "# Generate the predictions and write them to file\n",
    "predict_test(lr, train_c, test_c, 'submission_1.csv')"
   ]
  },
  {
   "cell_type": "markdown",
   "metadata": {},
   "source": [
    "The results were submitted to Kaggle on 9 December 2020, and their accuracy was 76.79%. This accuracy scored 11,104th out of 20,824 (Top 54%).\n",
    "\n",
    "# Feature engineering\n",
    "\n",
    "Feature engineering is the process of transforming raw data into features that better represent the underlying problem and enable more accurate predictive models. One common way to engineer a feature is using a technique called binning. Binning is when you take a continuous feature, like the age of a passenger, and separate it into several ranges (or 'bins'), turning it into a categorical variable. This can be useful when there are patterns in the data that are nonlinear and you're using a linear model like logistic regression. Let’s group the `age` column into the following age groups:\n",
    "\n",
    "Age group | Age interval\n",
    "--- | ---\n",
    "Infant | 0-5\n",
    "Child  | 5-12\n",
    "Teenager | 12-18\n",
    "Adult | 18-60\n",
    "Senior | 60+\n",
    "\n",
    "Since there are some missing values, we will create an additional category name `missing`."
   ]
  },
  {
   "cell_type": "code",
   "execution_count": 14,
   "metadata": {},
   "outputs": [
    {
     "data": {
      "image/png": "[encoded data removed]",
      "text/plain": [
       "<Figure size 432x288 with 1 Axes>"
      ]
     },
     "metadata": {
      "needs_background": "light"
     },
     "output_type": "display_data"
    }
   ],
   "source": [
    "def group_age(age):\n",
    "\n",
    "    age = age.fillna(-0.5)\n",
    "    \n",
    "    age_intervals = [-1,0,5,12,18,35,60,150]\n",
    "    age_group = ['Missing','Infant','Child','Teenager','Young adult','Adult','Senior']\n",
    "\n",
    "    return pd.cut(age, age_intervals, labels=age_group)\n",
    "\n",
    "train['age_group'] = group_age(train['age'])\n",
    "\n",
    "train.pivot_table(index='age_group',values='survived')['survived'].plot.bar(rot=45, ylabel='Proportion of survivors')\n",
    "set_spines()"
   ]
  },
  {
   "cell_type": "markdown",
   "metadata": {},
   "source": [
    "We can see that the vast majority of infants survived the shipwreck. Let’s calculate the accuracy of our model with the additional feature `age_group`."
   ]
  },
  {
   "cell_type": "code",
   "execution_count": 15,
   "metadata": {},
   "outputs": [
    {
     "name": "stdout",
     "output_type": "stream",
     "text": [
      "['pclass', 'sex', 'embarked', 'age_group', 'sibsp', 'parch']: 81.59%\n"
     ]
    }
   ],
   "source": [
    "cat_features = ['pclass','sex','embarked','age_group']\n",
    "\n",
    "accuracy = evaluate_lr_model(train, cat_features, num_features)\n",
    "print('{}: {:.2f}%'.format(cat_features + num_features, accuracy*100))"
   ]
  },
  {
   "cell_type": "markdown",
   "metadata": {},
   "source": [
    "Our accuracy increased from 78.90% to 81.59%. Another way to engineer features is by extracting data from text columns. Let's look at a random sample of the column `name`."
   ]
  },
  {
   "cell_type": "code",
   "execution_count": 16,
   "metadata": {},
   "outputs": [
    {
     "data": {
      "text/plain": [
       "419         Van Impe, Miss. Catharina\n",
       "329      Hippach, Miss. Jean Gertrude\n",
       "72               Hood, Mr. Ambrose Jr\n",
       "519               Pavlovic, Mr. Stefo\n",
       "719      Johnson, Mr. Malkolm Joackim\n",
       "563                 Simmons, Mr. John\n",
       "579               Jussila, Mr. Eiriik\n",
       "723           Hodges, Mr. Henry Price\n",
       "245       Minahan, Dr. William Edward\n",
       "220    Sunderland, Mr. Victor Francis\n",
       "Name: name, dtype: object"
      ]
     },
     "execution_count": 16,
     "metadata": {},
     "output_type": "execute_result"
    }
   ],
   "source": [
    "train['name'].sample(10)"
   ]
  },
  {
   "cell_type": "markdown",
   "metadata": {},
   "source": [
    "The title of each name might be useful information. We will create a new column with this."
   ]
  },
  {
   "cell_type": "code",
   "execution_count": 17,
   "metadata": {},
   "outputs": [
    {
     "data": {
      "text/plain": [
       "array(['Mr', 'Mrs', 'Miss', 'Master', 'Don', 'Rev', 'Dr', 'Mme', 'Ms',\n",
       "       'Major', 'Lady', 'Sir', 'Mlle', 'Col', 'Capt', 'Countess',\n",
       "       'Jonkheer'], dtype=object)"
      ]
     },
     "execution_count": 17,
     "metadata": {},
     "output_type": "execute_result"
    }
   ],
   "source": [
    "titles = train[\"name\"].str.extract(' ([A-Za-z]+)\\.', expand=False)\n",
    "titles.unique()"
   ]
  },
  {
   "cell_type": "markdown",
   "metadata": {},
   "source": [
    "We have too many unique values, which might lead to overfitting. We will group these titles into the categories `Mr`, `Mrs`, `Master`, `Miss`, `Officer` and `Royalty`."
   ]
  },
  {
   "cell_type": "code",
   "execution_count": 18,
   "metadata": {},
   "outputs": [
    {
     "data": {
      "image/png": "[encoded data removed]",
      "text/plain": [
       "<Figure size 432x288 with 1 Axes>"
      ]
     },
     "metadata": {
      "needs_background": "light"
     },
     "output_type": "display_data"
    }
   ],
   "source": [
    "titles_map = {\n",
    "    \"Mr\" :         \"Mr\",\n",
    "    \"Mme\":         \"Mrs\",\n",
    "    \"Ms\":          \"Mrs\",\n",
    "    \"Mrs\" :        \"Mrs\",\n",
    "    \"Master\" :     \"Master\",\n",
    "    \"Mlle\":        \"Miss\",\n",
    "    \"Miss\" :       \"Miss\",\n",
    "    \"Capt\":        \"Officer\",\n",
    "    \"Col\":         \"Officer\",\n",
    "    \"Major\":       \"Officer\",\n",
    "    \"Dr\":          \"Officer\",\n",
    "    \"Rev\":         \"Officer\",\n",
    "    \"Jonkheer\":    \"Royalty\",\n",
    "    \"Don\":         \"Royalty\",\n",
    "    \"Sir\" :        \"Royalty\",\n",
    "    \"Countess\":    \"Royalty\",\n",
    "    \"Dona\":        \"Royalty\",\n",
    "    \"Lady\" :       \"Royalty\"\n",
    "}\n",
    "\n",
    "def extract_title(name):\n",
    "    '''Extracts the title from the passenger name.'''\n",
    "\n",
    "    return name.str.extract(' ([A-Za-z]+)\\.', expand=False).map(titles_map)\n",
    "\n",
    "train[\"title\"] = extract_title(train['name'])\n",
    "\n",
    "train.pivot_table(index='title',values='survived')['survived'].plot.barh()\n",
    "set_spines()"
   ]
  },
  {
   "cell_type": "markdown",
   "metadata": {},
   "source": [
    "We can see that the majority of men that were not royalty did not survive the shipwreck. Let’s calculate the accuracy of our model with the additional feature `title`."
   ]
  },
  {
   "cell_type": "code",
   "execution_count": 19,
   "metadata": {},
   "outputs": [
    {
     "name": "stdout",
     "output_type": "stream",
     "text": [
      "['pclass', 'sex', 'embarked', 'age_group', 'title', 'sibsp', 'parch']: 82.38%\n"
     ]
    }
   ],
   "source": [
    "cat_features = ['pclass','sex','embarked','age_group','title']\n",
    "\n",
    "accuracy = evaluate_lr_model(train, cat_features, num_features)\n",
    "print('{}: {:.2f}%'.format(cat_features + num_features, accuracy*100))"
   ]
  },
  {
   "cell_type": "markdown",
   "metadata": {},
   "source": [
    "Our accuracy increased from 81.59% to 82.38%. Now we will predict which passengers of the test set survived."
   ]
  },
  {
   "cell_type": "code",
   "execution_count": 20,
   "metadata": {},
   "outputs": [],
   "source": [
    "test['age_group'] = group_age(test['age'])\n",
    "test[\"title\"] = extract_title(test['name'])\n",
    "\n",
    "train_c = copy_convert_dataset(train, cat_features, num_features)\n",
    "test_c = copy_convert_dataset(test, cat_features, num_features, False)\n",
    "\n",
    "predict_test(lr, train_c, test_c, 'submission_2.csv')"
   ]
  },
  {
   "cell_type": "markdown",
   "metadata": {},
   "source": [
    "The results were submitted to Kaggle on 9 December 2020, and their accuracy was 78.94%. This accuracy scored 2,127th out of 20,854 (Top 11%), which represented moving up 8977 positions on the leaderboard!\n",
    "\n",
    "# Model selection\n",
    "\n",
    "We can also try different machine learning models to improve performance. Each algorithm has different strengths and weaknesses, and so we need to select the algorithm that works best with our specific data. We will use the Scikit-learn library to compare the performance of the following algorithms:\n",
    "\n",
    "* [LogisticRegression](https://scikit-learn.org/stable/modules/generated/sklearn.linear_model.LogisticRegression.html) - Logistic regression classifier.\n",
    "* [DecisionTreeClassifier](https://scikit-learn.org/stable/modules/generated/sklearn.tree.DecisionTreeClassifier.html) - Decision tree classifier.\n",
    "* [RandomForestClassifier](https://scikit-learn.org/stable/modules/generated/sklearn.ensemble.RandomForestClassifier.html) - Random forest classifier."
   ]
  },
  {
   "cell_type": "code",
   "execution_count": 21,
   "metadata": {},
   "outputs": [
    {
     "name": "stdout",
     "output_type": "stream",
     "text": [
      "Logistic regression: 82.38%\n",
      "Decision tree: 78.79%\n",
      "Random forest: 79.80%\n"
     ]
    }
   ],
   "source": [
    "def evaluate_model(model, df):\n",
    "    '''Evaluates the accuracy of the specified model using 5-fold cross-validation.'''\n",
    "\n",
    "    accuracy = cross_val_score(model, df.loc[:,df.columns != target], df[target], cv=5).mean()\n",
    "\n",
    "    return accuracy\n",
    "\n",
    "models = {\n",
    "    'Logistic regression':LogisticRegression(),\n",
    "    'Decision tree':DecisionTreeClassifier(random_state=1),\n",
    "    'Random forest':RandomForestClassifier(random_state=1)\n",
    "}\n",
    "\n",
    "for k, v in models.items():\n",
    "    \n",
    "    accuracy = evaluate_model(v, train_c)\n",
    "    print('{}: {:.2f}%'.format(k, accuracy*100))"
   ]
  },
  {
   "cell_type": "markdown",
   "metadata": {},
   "source": [
    "The logistic regression classifier has the highest accuracy, and hence there is no need to submit the predictions to Kaggle.\n",
    "\n",
    "# Hyperparameter optimization\n",
    "\n",
    "Finally, we can consider hyperparameter optimization to tune the performance of our machine learning models. This approach consists of optimizing the settings within each particular model."
   ]
  },
  {
   "cell_type": "code",
   "execution_count": 22,
   "metadata": {},
   "outputs": [
    {
     "name": "stdout",
     "output_type": "stream",
     "text": [
      "Logistic regression\n",
      "-------------------\n",
      "Best accuracy: 82.38%\n",
      "Best parameters: {'solver': 'newton-cg'}\n",
      "\n",
      "Decision tree\n",
      "-------------\n",
      "Best accuracy: 81.60%\n",
      "Best parameters: {'criterion': 'entropy', 'max_depth': 8, 'max_features': 'auto', 'min_samples_split': 4, 'splitter': 'best'}\n",
      "\n",
      "RandomForestClassifier\n",
      "----------------------\n",
      "Best accuracy: 83.28%\n",
      "Best parameters: {'criterion': 'entropy', 'max_depth': 5, 'max_features': 'auto', 'min_samples_split': 2}\n",
      "\n",
      "\n",
      "Elapsed time: 200.37s\n"
     ]
    }
   ],
   "source": [
    "# List of models and their hyperparameters\n",
    "models = [\n",
    "    {\n",
    "     'name':'Logistic regression',\n",
    "     'estimator':LogisticRegression(),\n",
    "     'hyperparameters':{\n",
    "         'solver': ['newton-cg', 'lbfgs', 'liblinear']\n",
    "         }\n",
    "    },\n",
    "    {\n",
    "     'name':'Decision tree',\n",
    "     'estimator':DecisionTreeClassifier(random_state=1),\n",
    "     'hyperparameters':{\n",
    "         'criterion':['entropy','gini'],\n",
    "         'splitter':['best','random'],\n",
    "         'max_depth':range(4,10),\n",
    "         'max_features':['auto','sqrt','log2'],\n",
    "         'min_samples_split':[2,3,4]\n",
    "         }\n",
    "    },    {\n",
    "     'name':'RandomForestClassifier',\n",
    "     'estimator':RandomForestClassifier(n_estimators=300, random_state=1),\n",
    "     'hyperparameters':{\n",
    "         'criterion':['entropy','gini'],\n",
    "         'max_depth':range(4,9),\n",
    "         'max_features':['auto','sqrt','log2'],\n",
    "         'min_samples_split':[2,3,4]\n",
    "         }\n",
    "    }\n",
    "]\n",
    "\n",
    "def tune_models(models, df):\n",
    "\n",
    "    start = time()\n",
    "    \n",
    "    for model in models:\n",
    "\n",
    "        print(model['name'])\n",
    "        print('-' * len(model['name']))\n",
    "\n",
    "        grid = GridSearchCV(model['estimator'], param_grid=model['hyperparameters'], cv=5)\n",
    "\n",
    "        grid.fit(df.loc[:,df.columns != target], df[target])\n",
    "\n",
    "        model['best_score'] = grid.best_score_\n",
    "        model['best_params'] = grid.best_params_\n",
    "        model['best_model'] = grid.best_estimator_\n",
    "\n",
    "        print('Best accuracy: {:.2f}%'.format(model['best_score']*100))\n",
    "        print('Best parameters: {}\\n'.format(model['best_params']))\n",
    "\n",
    "    end = time()\n",
    "\n",
    "    print()\n",
    "    print('Elapsed time: {:.2f}s'.format(end - start))\n",
    "\n",
    "    return models\n",
    "\n",
    "models = tune_models(models, train_c)"
   ]
  },
  {
   "cell_type": "markdown",
   "metadata": {},
   "source": [
    "By using the random forest classifier, the accuracy increased from 82.38% to 83.28%. Now we will predict which passengers of the test set survived."
   ]
  },
  {
   "cell_type": "code",
   "execution_count": 23,
   "metadata": {},
   "outputs": [],
   "source": [
    "predict_test(models[2]['best_model'], train_c, test_c, 'submission_3.csv')"
   ]
  },
  {
   "cell_type": "markdown",
   "metadata": {},
   "source": [
    "The results were submitted to Kaggle on 10 December 2020, and their accuracy was 78.23%. This accuracy scored 2,141th out of 21,052 (Top 11%), which represented moving down 14 positions on the leaderboard. Although the accuracy obtained using the cross-validation on the training test increased, the accuracy obtained on the predictions submitted to Kaggle decreased. Although this is not what we expected, it is possible, since our model is predicting using unseen data.\n",
    "\n",
    "# Conclusions\n",
    "\n",
    "This notebook uses machine learning models to predict which passengers survived the Titanic shipwreck. It explores how feature engineering, model selection, and hyperparameter optimization influences the accuracy of our model. The figure below shows the accuracy of our models obtained for these different stages. The accuracies were obtained using a cross-validation method on the training set and by submitting the test set's predictions to Kaggle."
   ]
  },
  {
   "cell_type": "code",
   "execution_count": 24,
   "metadata": {},
   "outputs": [
    {
     "data": {
      "image/png": "[encoded data removed]",
      "text/plain": [
       "<Figure size 432x288 with 1 Axes>"
      ]
     },
     "metadata": {
      "needs_background": "light"
     },
     "output_type": "display_data"
    }
   ],
   "source": [
    "plt.plot([78.90, 82.38, 82.38, 83.28])\n",
    "plt.plot([76.79, 78.94, 78.94, 78.23])\n",
    "plt.xticks([0,1,2,3], ['Initial','Feature\\nengineering','Model\\nselection','Hyperparameter\\noptimization'])\n",
    "plt.legend(['Training', 'Test'], frameon=False)\n",
    "plt.ylim([76,84])\n",
    "set_spines()"
   ]
  },
  {
   "cell_type": "markdown",
   "metadata": {},
   "source": [
    "To further improve our models we can:\n",
    "\n",
    "* Read more about the titanic and this Kaggle competition to get ideas for new features.\n",
    "* Use different models such as support vector machines, stochastic gradient descent or perceptron linear models.\n",
    "\n",
    "Also, there are several other excellent notebooks related to this competition. Thanks for reading my notebook and any comments and suggestions are very welcome."
   ]
  }
 ],
 "metadata": {
  "kernelspec": {
   "display_name": "Python 3",
   "language": "python",
   "name": "python3"
  },
  "language_info": {
   "codemirror_mode": {
    "name": "ipython",
    "version": 3
   },
   "file_extension": ".py",
   "mimetype": "text/x-python",
   "name": "python",
   "nbconvert_exporter": "python",
   "pygments_lexer": "ipython3",
   "version": "3.8.7"
  }
 },
 "nbformat": 4,
 "nbformat_minor": 4
}
